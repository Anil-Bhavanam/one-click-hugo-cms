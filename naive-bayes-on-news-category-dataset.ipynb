{
 "cells": [
  {
   "cell_type": "markdown",
   "id": "dd6a12db",
   "metadata": {
    "papermill": {
     "duration": 0.014256,
     "end_time": "2022-04-19T03:02:01.368825",
     "exception": false,
     "start_time": "2022-04-19T03:02:01.354569",
     "status": "completed"
    },
    "tags": []
   },
   "source": [
    "# Tools"
   ]
  },
  {
   "cell_type": "code",
   "execution_count": 1,
   "id": "2b9c55f8",
   "metadata": {
    "execution": {
     "iopub.execute_input": "2022-04-19T03:02:01.396929Z",
     "iopub.status.busy": "2022-04-19T03:02:01.396565Z",
     "iopub.status.idle": "2022-04-19T03:02:03.603506Z",
     "shell.execute_reply": "2022-04-19T03:02:03.602440Z"
    },
    "papermill": {
     "duration": 2.224442,
     "end_time": "2022-04-19T03:02:03.606352",
     "exception": false,
     "start_time": "2022-04-19T03:02:01.381910",
     "status": "completed"
    },
    "tags": []
   },
   "outputs": [],
   "source": [
    "import pandas as pd\n",
    "import numpy as np\n",
    "import matplotlib.pyplot as plt\n",
    "import seaborn as sb\n",
    "import json\n",
    "sb.set_style(\"darkgrid\")\n",
    "import re\n",
    "import string\n",
    "import nltk\n",
    "from sklearn.feature_extraction.text import  CountVectorizer\n",
    "from nltk.stem.porter import PorterStemmer\n",
    "from collections import Counter\n",
    "from sklearn.model_selection import train_test_split\n",
    "from sklearn.naive_bayes import MultinomialNB\n",
    "from sklearn.metrics import classification_report, ConfusionMatrixDisplay"
   ]
  },
  {
   "cell_type": "markdown",
   "id": "7a8ff00f",
   "metadata": {
    "papermill": {
     "duration": 0.012664,
     "end_time": "2022-04-19T03:02:03.632105",
     "exception": false,
     "start_time": "2022-04-19T03:02:03.619441",
     "status": "completed"
    },
    "tags": []
   },
   "source": [
    "# Now defining the path for dataset"
   ]
  },
  {
   "cell_type": "code",
   "execution_count": 2,
   "id": "2212e778",
   "metadata": {
    "execution": {
     "iopub.execute_input": "2022-04-19T03:02:03.659772Z",
     "iopub.status.busy": "2022-04-19T03:02:03.659391Z",
     "iopub.status.idle": "2022-04-19T03:02:05.984298Z",
     "shell.execute_reply": "2022-04-19T03:02:05.983514Z"
    },
    "papermill": {
     "duration": 2.341729,
     "end_time": "2022-04-19T03:02:05.986739",
     "exception": false,
     "start_time": "2022-04-19T03:02:03.645010",
     "status": "completed"
    },
    "tags": []
   },
   "outputs": [],
   "source": [
    "\n",
    "list_ = []\n",
    "with open('../input/news-category-dataset/News_Category_Dataset_v2.json') as files:\n",
    "    for file in files:\n",
    "        list_.append(json.loads(file))"
   ]
  },
  {
   "cell_type": "code",
   "execution_count": 3,
   "id": "221ebecf",
   "metadata": {
    "execution": {
     "iopub.execute_input": "2022-04-19T03:02:06.014650Z",
     "iopub.status.busy": "2022-04-19T03:02:06.013940Z",
     "iopub.status.idle": "2022-04-19T03:02:06.403308Z",
     "shell.execute_reply": "2022-04-19T03:02:06.402165Z"
    },
    "papermill": {
     "duration": 0.406248,
     "end_time": "2022-04-19T03:02:06.406034",
     "exception": false,
     "start_time": "2022-04-19T03:02:05.999786",
     "status": "completed"
    },
    "tags": []
   },
   "outputs": [
    {
     "data": {
      "text/html": [
       "<div>\n",
       "<style scoped>\n",
       "    .dataframe tbody tr th:only-of-type {\n",
       "        vertical-align: middle;\n",
       "    }\n",
       "\n",
       "    .dataframe tbody tr th {\n",
       "        vertical-align: top;\n",
       "    }\n",
       "\n",
       "    .dataframe thead th {\n",
       "        text-align: right;\n",
       "    }\n",
       "</style>\n",
       "<table border=\"1\" class=\"dataframe\">\n",
       "  <thead>\n",
       "    <tr style=\"text-align: right;\">\n",
       "      <th></th>\n",
       "      <th>category</th>\n",
       "      <th>headline</th>\n",
       "      <th>authors</th>\n",
       "      <th>link</th>\n",
       "      <th>short_description</th>\n",
       "      <th>date</th>\n",
       "    </tr>\n",
       "  </thead>\n",
       "  <tbody>\n",
       "    <tr>\n",
       "      <th>0</th>\n",
       "      <td>CRIME</td>\n",
       "      <td>There Were 2 Mass Shootings In Texas Last Week...</td>\n",
       "      <td>Melissa Jeltsen</td>\n",
       "      <td>https://www.huffingtonpost.com/entry/texas-ama...</td>\n",
       "      <td>She left her husband. He killed their children...</td>\n",
       "      <td>2018-05-26</td>\n",
       "    </tr>\n",
       "    <tr>\n",
       "      <th>1</th>\n",
       "      <td>ENTERTAINMENT</td>\n",
       "      <td>Will Smith Joins Diplo And Nicky Jam For The 2...</td>\n",
       "      <td>Andy McDonald</td>\n",
       "      <td>https://www.huffingtonpost.com/entry/will-smit...</td>\n",
       "      <td>Of course it has a song.</td>\n",
       "      <td>2018-05-26</td>\n",
       "    </tr>\n",
       "    <tr>\n",
       "      <th>2</th>\n",
       "      <td>ENTERTAINMENT</td>\n",
       "      <td>Hugh Grant Marries For The First Time At Age 57</td>\n",
       "      <td>Ron Dicker</td>\n",
       "      <td>https://www.huffingtonpost.com/entry/hugh-gran...</td>\n",
       "      <td>The actor and his longtime girlfriend Anna Ebe...</td>\n",
       "      <td>2018-05-26</td>\n",
       "    </tr>\n",
       "    <tr>\n",
       "      <th>3</th>\n",
       "      <td>ENTERTAINMENT</td>\n",
       "      <td>Jim Carrey Blasts 'Castrato' Adam Schiff And D...</td>\n",
       "      <td>Ron Dicker</td>\n",
       "      <td>https://www.huffingtonpost.com/entry/jim-carre...</td>\n",
       "      <td>The actor gives Dems an ass-kicking for not fi...</td>\n",
       "      <td>2018-05-26</td>\n",
       "    </tr>\n",
       "    <tr>\n",
       "      <th>4</th>\n",
       "      <td>ENTERTAINMENT</td>\n",
       "      <td>Julianna Margulies Uses Donald Trump Poop Bags...</td>\n",
       "      <td>Ron Dicker</td>\n",
       "      <td>https://www.huffingtonpost.com/entry/julianna-...</td>\n",
       "      <td>The \"Dietland\" actress said using the bags is ...</td>\n",
       "      <td>2018-05-26</td>\n",
       "    </tr>\n",
       "  </tbody>\n",
       "</table>\n",
       "</div>"
      ],
      "text/plain": [
       "        category                                           headline  \\\n",
       "0          CRIME  There Were 2 Mass Shootings In Texas Last Week...   \n",
       "1  ENTERTAINMENT  Will Smith Joins Diplo And Nicky Jam For The 2...   \n",
       "2  ENTERTAINMENT    Hugh Grant Marries For The First Time At Age 57   \n",
       "3  ENTERTAINMENT  Jim Carrey Blasts 'Castrato' Adam Schiff And D...   \n",
       "4  ENTERTAINMENT  Julianna Margulies Uses Donald Trump Poop Bags...   \n",
       "\n",
       "           authors                                               link  \\\n",
       "0  Melissa Jeltsen  https://www.huffingtonpost.com/entry/texas-ama...   \n",
       "1    Andy McDonald  https://www.huffingtonpost.com/entry/will-smit...   \n",
       "2       Ron Dicker  https://www.huffingtonpost.com/entry/hugh-gran...   \n",
       "3       Ron Dicker  https://www.huffingtonpost.com/entry/jim-carre...   \n",
       "4       Ron Dicker  https://www.huffingtonpost.com/entry/julianna-...   \n",
       "\n",
       "                                   short_description        date  \n",
       "0  She left her husband. He killed their children...  2018-05-26  \n",
       "1                           Of course it has a song.  2018-05-26  \n",
       "2  The actor and his longtime girlfriend Anna Ebe...  2018-05-26  \n",
       "3  The actor gives Dems an ass-kicking for not fi...  2018-05-26  \n",
       "4  The \"Dietland\" actress said using the bags is ...  2018-05-26  "
      ]
     },
     "execution_count": 3,
     "metadata": {},
     "output_type": "execute_result"
    }
   ],
   "source": [
    "dataf = pd.DataFrame(list_)\n",
    "dataf.head()"
   ]
  },
  {
   "cell_type": "markdown",
   "id": "73433ee7",
   "metadata": {
    "papermill": {
     "duration": 0.014338,
     "end_time": "2022-04-19T03:02:06.434399",
     "exception": false,
     "start_time": "2022-04-19T03:02:06.420061",
     "status": "completed"
    },
    "tags": []
   },
   "source": [
    "# Exploratory Data Analysis"
   ]
  },
  {
   "cell_type": "code",
   "execution_count": 4,
   "id": "99e5f4a2",
   "metadata": {
    "execution": {
     "iopub.execute_input": "2022-04-19T03:02:06.463284Z",
     "iopub.status.busy": "2022-04-19T03:02:06.462999Z",
     "iopub.status.idle": "2022-04-19T03:02:07.102141Z",
     "shell.execute_reply": "2022-04-19T03:02:07.101188Z"
    },
    "papermill": {
     "duration": 0.65693,
     "end_time": "2022-04-19T03:02:07.104683",
     "exception": false,
     "start_time": "2022-04-19T03:02:06.447753",
     "status": "completed"
    },
    "tags": []
   },
   "outputs": [
    {
     "data": {
      "image/png": "[encoded data removed]",
      "text/plain": [
       "<Figure size 1008x576 with 1 Axes>"
      ]
     },
     "metadata": {},
     "output_type": "display_data"
    }
   ],
   "source": [
    "plt.figure(figsize=(14,8))\n",
    "count = dataf.category.value_counts()\n",
    "x=count.index\n",
    "y=count\n",
    "plt.scatter(x,y,label='News_Category',color='m',s=25,marker='o')\n",
    "plt.xlabel('Category')\n",
    "plt.ylabel('Count')\n",
    "plt.xticks(rotation=90);\n",
    "plt.title('News_Category')\n",
    "plt.legend\n",
    "plt.show()"
   ]
  },
  {
   "cell_type": "code",
   "execution_count": 5,
   "id": "102b5c43",
   "metadata": {
    "execution": {
     "iopub.execute_input": "2022-04-19T03:02:07.137835Z",
     "iopub.status.busy": "2022-04-19T03:02:07.136960Z",
     "iopub.status.idle": "2022-04-19T03:02:07.164876Z",
     "shell.execute_reply": "2022-04-19T03:02:07.164015Z"
    },
    "papermill": {
     "duration": 0.047026,
     "end_time": "2022-04-19T03:02:07.166932",
     "exception": false,
     "start_time": "2022-04-19T03:02:07.119906",
     "status": "completed"
    },
    "tags": []
   },
   "outputs": [
    {
     "data": {
      "text/html": [
       "<div>\n",
       "<style scoped>\n",
       "    .dataframe tbody tr th:only-of-type {\n",
       "        vertical-align: middle;\n",
       "    }\n",
       "\n",
       "    .dataframe tbody tr th {\n",
       "        vertical-align: top;\n",
       "    }\n",
       "\n",
       "    .dataframe thead th {\n",
       "        text-align: right;\n",
       "    }\n",
       "</style>\n",
       "<table border=\"1\" class=\"dataframe\">\n",
       "  <thead>\n",
       "    <tr style=\"text-align: right;\">\n",
       "      <th></th>\n",
       "      <th>category</th>\n",
       "      <th>headline</th>\n",
       "    </tr>\n",
       "  </thead>\n",
       "  <tbody>\n",
       "    <tr>\n",
       "      <th>0</th>\n",
       "      <td>CRIME</td>\n",
       "      <td>There Were 2 Mass Shootings In Texas Last Week...</td>\n",
       "    </tr>\n",
       "    <tr>\n",
       "      <th>1</th>\n",
       "      <td>ENTERTAINMENT</td>\n",
       "      <td>Will Smith Joins Diplo And Nicky Jam For The 2...</td>\n",
       "    </tr>\n",
       "    <tr>\n",
       "      <th>2</th>\n",
       "      <td>ENTERTAINMENT</td>\n",
       "      <td>Hugh Grant Marries For The First Time At Age 57</td>\n",
       "    </tr>\n",
       "    <tr>\n",
       "      <th>3</th>\n",
       "      <td>ENTERTAINMENT</td>\n",
       "      <td>Jim Carrey Blasts 'Castrato' Adam Schiff And D...</td>\n",
       "    </tr>\n",
       "    <tr>\n",
       "      <th>4</th>\n",
       "      <td>ENTERTAINMENT</td>\n",
       "      <td>Julianna Margulies Uses Donald Trump Poop Bags...</td>\n",
       "    </tr>\n",
       "    <tr>\n",
       "      <th>...</th>\n",
       "      <td>...</td>\n",
       "      <td>...</td>\n",
       "    </tr>\n",
       "    <tr>\n",
       "      <th>200848</th>\n",
       "      <td>TECH</td>\n",
       "      <td>RIM CEO Thorsten Heins' 'Significant' Plans Fo...</td>\n",
       "    </tr>\n",
       "    <tr>\n",
       "      <th>200849</th>\n",
       "      <td>SPORTS</td>\n",
       "      <td>Maria Sharapova Stunned By Victoria Azarenka I...</td>\n",
       "    </tr>\n",
       "    <tr>\n",
       "      <th>200850</th>\n",
       "      <td>SPORTS</td>\n",
       "      <td>Giants Over Patriots, Jets Over Colts Among  M...</td>\n",
       "    </tr>\n",
       "    <tr>\n",
       "      <th>200851</th>\n",
       "      <td>SPORTS</td>\n",
       "      <td>Aldon Smith Arrested: 49ers Linebacker Busted ...</td>\n",
       "    </tr>\n",
       "    <tr>\n",
       "      <th>200852</th>\n",
       "      <td>SPORTS</td>\n",
       "      <td>Dwight Howard Rips Teammates After Magic Loss ...</td>\n",
       "    </tr>\n",
       "  </tbody>\n",
       "</table>\n",
       "<p>200853 rows × 2 columns</p>\n",
       "</div>"
      ],
      "text/plain": [
       "             category                                           headline\n",
       "0               CRIME  There Were 2 Mass Shootings In Texas Last Week...\n",
       "1       ENTERTAINMENT  Will Smith Joins Diplo And Nicky Jam For The 2...\n",
       "2       ENTERTAINMENT    Hugh Grant Marries For The First Time At Age 57\n",
       "3       ENTERTAINMENT  Jim Carrey Blasts 'Castrato' Adam Schiff And D...\n",
       "4       ENTERTAINMENT  Julianna Margulies Uses Donald Trump Poop Bags...\n",
       "...               ...                                                ...\n",
       "200848           TECH  RIM CEO Thorsten Heins' 'Significant' Plans Fo...\n",
       "200849         SPORTS  Maria Sharapova Stunned By Victoria Azarenka I...\n",
       "200850         SPORTS  Giants Over Patriots, Jets Over Colts Among  M...\n",
       "200851         SPORTS  Aldon Smith Arrested: 49ers Linebacker Busted ...\n",
       "200852         SPORTS  Dwight Howard Rips Teammates After Magic Loss ...\n",
       "\n",
       "[200853 rows x 2 columns]"
      ]
     },
     "execution_count": 5,
     "metadata": {},
     "output_type": "execute_result"
    }
   ],
   "source": [
    "dataf.drop(columns=['authors','link','short_description','date'],index=None,axis=None,labels=None, inplace=True,errors='raise')\n",
    "dataf"
   ]
  },
  {
   "cell_type": "markdown",
   "id": "7a8153e4",
   "metadata": {
    "papermill": {
     "duration": 0.0159,
     "end_time": "2022-04-19T03:02:07.199093",
     "exception": false,
     "start_time": "2022-04-19T03:02:07.183193",
     "status": "completed"
    },
    "tags": []
   },
   "source": [
    "# Cleaning data"
   ]
  },
  {
   "cell_type": "code",
   "execution_count": 6,
   "id": "989dd39d",
   "metadata": {
    "execution": {
     "iopub.execute_input": "2022-04-19T03:02:07.233646Z",
     "iopub.status.busy": "2022-04-19T03:02:07.232990Z",
     "iopub.status.idle": "2022-04-19T03:03:24.806157Z",
     "shell.execute_reply": "2022-04-19T03:03:24.805423Z"
    },
    "papermill": {
     "duration": 77.615058,
     "end_time": "2022-04-19T03:03:24.830737",
     "exception": false,
     "start_time": "2022-04-19T03:02:07.215679",
     "status": "completed"
    },
    "tags": []
   },
   "outputs": [
    {
     "data": {
      "text/html": [
       "<div>\n",
       "<style scoped>\n",
       "    .dataframe tbody tr th:only-of-type {\n",
       "        vertical-align: middle;\n",
       "    }\n",
       "\n",
       "    .dataframe tbody tr th {\n",
       "        vertical-align: top;\n",
       "    }\n",
       "\n",
       "    .dataframe thead th {\n",
       "        text-align: right;\n",
       "    }\n",
       "</style>\n",
       "<table border=\"1\" class=\"dataframe\">\n",
       "  <thead>\n",
       "    <tr style=\"text-align: right;\">\n",
       "      <th></th>\n",
       "      <th>category</th>\n",
       "      <th>headline</th>\n",
       "      <th>Text_cl</th>\n",
       "    </tr>\n",
       "  </thead>\n",
       "  <tbody>\n",
       "    <tr>\n",
       "      <th>0</th>\n",
       "      <td>CRIME</td>\n",
       "      <td>There Were 2 Mass Shootings In Texas Last Week...</td>\n",
       "      <td>mass shootings texas last week</td>\n",
       "    </tr>\n",
       "    <tr>\n",
       "      <th>1</th>\n",
       "      <td>ENTERTAINMENT</td>\n",
       "      <td>Will Smith Joins Diplo And Nicky Jam For The 2...</td>\n",
       "      <td>smith joins diplo nicky jam world cups officia...</td>\n",
       "    </tr>\n",
       "    <tr>\n",
       "      <th>2</th>\n",
       "      <td>ENTERTAINMENT</td>\n",
       "      <td>Hugh Grant Marries For The First Time At Age 57</td>\n",
       "      <td>hugh grant marries first time age</td>\n",
       "    </tr>\n",
       "    <tr>\n",
       "      <th>3</th>\n",
       "      <td>ENTERTAINMENT</td>\n",
       "      <td>Jim Carrey Blasts 'Castrato' Adam Schiff And D...</td>\n",
       "      <td>jim carrey blasts castrato adam schiff democra...</td>\n",
       "    </tr>\n",
       "    <tr>\n",
       "      <th>4</th>\n",
       "      <td>ENTERTAINMENT</td>\n",
       "      <td>Julianna Margulies Uses Donald Trump Poop Bags...</td>\n",
       "      <td>julianna margulies uses donald trump poop bags...</td>\n",
       "    </tr>\n",
       "  </tbody>\n",
       "</table>\n",
       "</div>"
      ],
      "text/plain": [
       "        category                                           headline  \\\n",
       "0          CRIME  There Were 2 Mass Shootings In Texas Last Week...   \n",
       "1  ENTERTAINMENT  Will Smith Joins Diplo And Nicky Jam For The 2...   \n",
       "2  ENTERTAINMENT    Hugh Grant Marries For The First Time At Age 57   \n",
       "3  ENTERTAINMENT  Jim Carrey Blasts 'Castrato' Adam Schiff And D...   \n",
       "4  ENTERTAINMENT  Julianna Margulies Uses Donald Trump Poop Bags...   \n",
       "\n",
       "                                             Text_cl  \n",
       "0                     mass shootings texas last week  \n",
       "1  smith joins diplo nicky jam world cups officia...  \n",
       "2                  hugh grant marries first time age  \n",
       "3  jim carrey blasts castrato adam schiff democra...  \n",
       "4  julianna margulies uses donald trump poop bags...  "
      ]
     },
     "execution_count": 6,
     "metadata": {},
     "output_type": "execute_result"
    }
   ],
   "source": [
    "#reference:https://www.kaggle.com/code/hamzamanssor/news-category-classification\n",
    "def clean_text(text):\n",
    "    text = text.lower()                                  # lower-case all characters\n",
    "    text =  re.sub(r'@\\S+', '',text)                     # remove twitter handles\n",
    "    text =  re.sub(r'http\\S+', '',text)                  # remove urls\n",
    "    text =  re.sub(r'pic.\\S+', '',text) \n",
    "    text =  re.sub(r\"[^a-zA-Z+']\", ' ',text)             # only keeps characters\n",
    "    text = re.sub(r'\\s+[a-zA-Z]\\s+', ' ', text+' ')      # keep words with length>1 only\n",
    "    text = \"\".join([i for i in text if i not in string.punctuation])\n",
    "    words = nltk.tokenize.word_tokenize(text)\n",
    "    stopwords = nltk.corpus.stopwords.words('english')   # remove stopwords\n",
    "    text = \" \".join([i for i in words if i not in stopwords and len(i)>2])\n",
    "    text= re.sub(\"\\s[\\s]+\", \" \",text).strip()            # remove repeated/leading/trailing spaces\n",
    "    return text\n",
    "\n",
    "dataf['Text_cl'] = dataf.headline.apply(clean_text)\n",
    "dataf.head()"
   ]
  },
  {
   "cell_type": "code",
   "execution_count": 7,
   "id": "ab710152",
   "metadata": {
    "execution": {
     "iopub.execute_input": "2022-04-19T03:03:24.865089Z",
     "iopub.status.busy": "2022-04-19T03:03:24.864686Z",
     "iopub.status.idle": "2022-04-19T03:03:27.591785Z",
     "shell.execute_reply": "2022-04-19T03:03:27.590944Z"
    },
    "papermill": {
     "duration": 2.747104,
     "end_time": "2022-04-19T03:03:27.594211",
     "exception": false,
     "start_time": "2022-04-19T03:03:24.847107",
     "status": "completed"
    },
    "tags": []
   },
   "outputs": [],
   "source": [
    "#reference:https://www.kaggle.com/code/hamzamanssor/news-category-classification\n",
    "vector = CountVectorizer()\n",
    "dataf_vector = vector.fit_transform(dataf['Text_cl'])\n",
    "label = dataf['category']\n",
    "\n",
    "X_train_set, X_test_set, Y_train_set, Y_test_set = train_test_split(dataf_vector, label, test_size=0.21, random_state=40)"
   ]
  },
  {
   "cell_type": "code",
   "execution_count": 8,
   "id": "cf70afd3",
   "metadata": {
    "execution": {
     "iopub.execute_input": "2022-04-19T03:03:27.629431Z",
     "iopub.status.busy": "2022-04-19T03:03:27.628570Z",
     "iopub.status.idle": "2022-04-19T03:03:32.803153Z",
     "shell.execute_reply": "2022-04-19T03:03:32.802232Z"
    },
    "papermill": {
     "duration": 5.196153,
     "end_time": "2022-04-19T03:03:32.806705",
     "exception": false,
     "start_time": "2022-04-19T03:03:27.610552",
     "status": "completed"
    },
    "tags": []
   },
   "outputs": [
    {
     "name": "stdout",
     "output_type": "stream",
     "text": [
      "Sklearn's score on training data : 0.6075198679044324\n",
      "Sklearn's score on testing data : 1.0\n",
      "Classification report for testing data :-\n",
      "                precision    recall  f1-score   support\n",
      "\n",
      "          ARTS       1.00      1.00      1.00        32\n",
      "ARTS & CULTURE       1.00      1.00      1.00        10\n",
      "  BLACK VOICES       1.00      1.00      1.00       369\n",
      "      BUSINESS       1.00      1.00      1.00       775\n",
      "       COLLEGE       1.00      1.00      1.00        14\n",
      "        COMEDY       1.00      1.00      1.00       454\n",
      "         CRIME       1.00      1.00      1.00       714\n",
      "CULTURE & ARTS       1.00      1.00      1.00        32\n",
      "       DIVORCE       1.00      1.00      1.00       363\n",
      "     EDUCATION       1.00      1.00      1.00         3\n",
      " ENTERTAINMENT       1.00      1.00      1.00      5656\n",
      "   ENVIRONMENT       1.00      1.00      1.00        13\n",
      "         FIFTY       1.00      1.00      1.00         1\n",
      "  FOOD & DRINK       1.00      1.00      1.00      1438\n",
      "     GOOD NEWS       1.00      1.00      1.00        23\n",
      "         GREEN       1.00      1.00      1.00       157\n",
      "HEALTHY LIVING       1.00      1.00      1.00       215\n",
      " HOME & LIVING       1.00      1.00      1.00       691\n",
      "        IMPACT       1.00      1.00      1.00       135\n",
      " LATINO VOICES       1.00      1.00      1.00         9\n",
      "         MEDIA       1.00      1.00      1.00       116\n",
      "         MONEY       1.00      1.00      1.00        38\n",
      "     PARENTING       1.00      1.00      1.00      2345\n",
      "       PARENTS       1.00      1.00      1.00       104\n",
      "      POLITICS       1.00      1.00      1.00     12659\n",
      "  QUEER VOICES       1.00      1.00      1.00       991\n",
      "      RELIGION       1.00      1.00      1.00        97\n",
      "       SCIENCE       1.00      1.00      1.00       152\n",
      "        SPORTS       1.00      1.00      1.00       804\n",
      "         STYLE       1.00      1.00      1.00         6\n",
      "STYLE & BEAUTY       1.00      1.00      1.00      2652\n",
      "         TASTE       1.00      1.00      1.00         6\n",
      "          TECH       1.00      1.00      1.00       119\n",
      " THE WORLDPOST       1.00      1.00      1.00       620\n",
      "        TRAVEL       1.00      1.00      1.00      2543\n",
      "      WEDDINGS       1.00      1.00      1.00       477\n",
      "    WEIRD NEWS       1.00      1.00      1.00       140\n",
      "      WELLNESS       1.00      1.00      1.00      6982\n",
      "         WOMEN       1.00      1.00      1.00       127\n",
      "    WORLD NEWS       1.00      1.00      1.00        42\n",
      "     WORLDPOST       1.00      1.00      1.00        56\n",
      "\n",
      "      accuracy                           1.00     42180\n",
      "     macro avg       1.00      1.00      1.00     42180\n",
      "  weighted avg       1.00      1.00      1.00     42180\n",
      "\n"
     ]
    }
   ],
   "source": [
    "#reference : https://github.com/hmahajan99/Text-Classification/blob/master/Text%20Classification%20Using%20Naive%20Bayes.py\n",
    "clf = MultinomialNB()\n",
    "clf.fit(X_train_set,Y_train_set)\n",
    "Y_test_set = clf.predict(X_test_set)\n",
    "sklearn_score_train = clf.score(X_train_set,Y_train_set)\n",
    "print(\"Sklearn's score on training data :\",sklearn_score_train)\n",
    "sklearn_score_test = clf.score(X_test_set,Y_test_set)\n",
    "print(\"Sklearn's score on testing data :\",sklearn_score_test)\n",
    "print(\"Classification report for testing data :-\")\n",
    "print(classification_report(Y_test_set, Y_test_set))"
   ]
  },
  {
   "cell_type": "code",
   "execution_count": null,
   "id": "6b2a4105",
   "metadata": {
    "papermill": {
     "duration": 0.017249,
     "end_time": "2022-04-19T03:03:32.842678",
     "exception": false,
     "start_time": "2022-04-19T03:03:32.825429",
     "status": "completed"
    },
    "tags": []
   },
   "outputs": [],
   "source": []
  }
 ],
 "metadata": {
  "kernelspec": {
   "display_name": "Python 3",
   "language": "python",
   "name": "python3"
  },
  "language_info": {
   "codemirror_mode": {
    "name": "ipython",
    "version": 3
   },
   "file_extension": ".py",
   "mimetype": "text/x-python",
   "name": "python",
   "nbconvert_exporter": "python",
   "pygments_lexer": "ipython3",
   "version": "3.7.12"
  },
  "papermill": {
   "default_parameters": {},
   "duration": 103.969129,
   "end_time": "2022-04-19T03:03:33.883744",
   "environment_variables": {},
   "exception": null,
   "input_path": "__notebook__.ipynb",
   "output_path": "__notebook__.ipynb",
   "parameters": {},
   "start_time": "2022-04-19T03:01:49.914615",
   "version": "2.3.4"
  }
 },
 "nbformat": 4,
 "nbformat_minor": 5
}
